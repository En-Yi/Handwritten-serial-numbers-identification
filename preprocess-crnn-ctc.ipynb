{
 "cells": [
  {
   "cell_type": "code",
   "execution_count": 1,
   "id": "500e4d3e",
   "metadata": {
    "_cell_guid": "b1076dfc-b9ad-4769-8c92-a6c4dae69d19",
    "_uuid": "8f2839f25d086af736a60e9eeb907d3b93b6e0e5",
    "execution": {
     "iopub.execute_input": "2021-10-24T13:10:41.566169Z",
     "iopub.status.busy": "2021-10-24T13:10:41.564653Z",
     "iopub.status.idle": "2021-10-24T13:10:43.443884Z",
     "shell.execute_reply": "2021-10-24T13:10:43.444305Z",
     "shell.execute_reply.started": "2021-10-24T13:06:01.392854Z"
    },
    "papermill": {
     "duration": 1.905512,
     "end_time": "2021-10-24T13:10:43.444655",
     "exception": false,
     "start_time": "2021-10-24T13:10:41.539143",
     "status": "completed"
    },
    "tags": []
   },
   "outputs": [],
   "source": [
    "# This Python 3 environment comes with many helpful analytics libraries installed\n",
    "# It is defined by the kaggle/python Docker image: https://github.com/kaggle/docker-python\n",
    "# For example, here's several helpful packages to load\n",
    "\n",
    "import numpy as np # linear algebra\n",
    "import pandas as pd # data processing, CSV file I/O (e.g. pd.read_csv)\n",
    "import csv\n",
    "import math\n",
    "from math import ceil, floor\n",
    "from PIL import Image\n",
    "import cv2\n",
    "import torch\n",
    "import os\n",
    "import torch.optim as optim\n",
    "from torch.nn import CTCLoss\n",
    "import matplotlib.pyplot as plt\n",
    "from tqdm import tqdm\n",
    "\n",
    "# Input data files are available in the read-only \"../input/\" directory\n",
    "# For example, running this (by clicking run or pressing Shift+Enter) will list all files unde\n",
    "\n",
    "#for dirname, _, filenames in os.walk('/kaggle/input'):\n",
    "#    for filename in filenames:\n",
    "#        print(os.path.join(dirname, filename))\n",
    "\n",
    "\n",
    "# You can write up to 20GB to the current directory (/kaggle/working/) that gets preserved as output when you create a version using \"Save & Run All\" \n",
    "# You can also write temporary files to /kaggle/temp/, but they won't be saved outside of the current session"
   ]
  },
  {
   "cell_type": "code",
   "execution_count": 2,
   "id": "cbd3f1bc",
   "metadata": {
    "execution": {
     "iopub.execute_input": "2021-10-24T13:10:43.492862Z",
     "iopub.status.busy": "2021-10-24T13:10:43.492247Z",
     "iopub.status.idle": "2021-10-24T13:10:47.384091Z",
     "shell.execute_reply": "2021-10-24T13:10:47.383609Z",
     "shell.execute_reply.started": "2021-10-24T13:06:02.874126Z"
    },
    "papermill": {
     "duration": 3.91705,
     "end_time": "2021-10-24T13:10:47.384222",
     "exception": false,
     "start_time": "2021-10-24T13:10:43.467172",
     "status": "completed"
    },
    "tags": []
   },
   "outputs": [
    {
     "name": "stdout",
     "output_type": "stream",
     "text": [
      "Python 3.7.10\r\n",
      "pytorch-ignite==0.4.7\r\n",
      "pytorch-lightning==1.4.4\r\n",
      "torch @ file:///tmp/torch/torch-1.9.1-cp37-cp37m-linux_x86_64.whl\r\n",
      "torchaudio @ file:///tmp/torch/torchaudio-0.9.1-cp37-cp37m-linux_x86_64.whl\r\n",
      "torchmetrics==0.5.0\r\n",
      "torchtext @ file:///tmp/torch/torchtext-0.10.1-cp37-cp37m-linux_x86_64.whl\r\n",
      "torchvision @ file:///tmp/torch/torchvision-0.10.1-cp37-cp37m-linux_x86_64.whl\r\n"
     ]
    }
   ],
   "source": [
    "!python --version\n",
    "!pip freeze | grep torch"
   ]
  },
  {
   "cell_type": "markdown",
   "id": "23cfc7be",
   "metadata": {
    "papermill": {
     "duration": 0.02153,
     "end_time": "2021-10-24T13:10:47.428276",
     "exception": false,
     "start_time": "2021-10-24T13:10:47.406746",
     "status": "completed"
    },
    "tags": []
   },
   "source": [
    "# First step: Loading data"
   ]
  },
  {
   "cell_type": "markdown",
   "id": "43e449e2",
   "metadata": {
    "papermill": {
     "duration": 0.021874,
     "end_time": "2021-10-24T13:10:47.472005",
     "exception": false,
     "start_time": "2021-10-24T13:10:47.450131",
     "status": "completed"
    },
    "tags": []
   },
   "source": [
    "## 1.1 Dataset"
   ]
  },
  {
   "cell_type": "code",
   "execution_count": 3,
   "id": "527d05e5",
   "metadata": {
    "execution": {
     "iopub.execute_input": "2021-10-24T13:10:47.521642Z",
     "iopub.status.busy": "2021-10-24T13:10:47.520829Z",
     "iopub.status.idle": "2021-10-24T13:10:47.523259Z",
     "shell.execute_reply": "2021-10-24T13:10:47.522830Z",
     "shell.execute_reply.started": "2021-10-24T13:06:07.997335Z"
    },
    "papermill": {
     "duration": 0.02971,
     "end_time": "2021-10-24T13:10:47.523362",
     "exception": false,
     "start_time": "2021-10-24T13:10:47.493652",
     "status": "completed"
    },
    "tags": []
   },
   "outputs": [],
   "source": [
    "# class Dataset(torch.utils.data.Dataset):\n",
    "    \n",
    "#     CHARS = '0123456789ABCDEFGHIJKLMNOPQRSTUVWXYZ'\n",
    "#     CHAR2LABEL = {char: i + 1 for i, char in enumerate(CHARS)}\n",
    "#     LABEL2CHAR = {label:char for char,label in CHAR2LABEL.items()}\n",
    "    \n",
    "#     def __init__(self, csv_file, mode='train', transform=None):\n",
    "        \n",
    "#         self.mode = mode # 'train', 'val' or 'test'\n",
    "#         self.data_list = []\n",
    "#         self.coordinate = []\n",
    "#         self.text = []\n",
    "#         self.transform = transform\n",
    "              \n",
    "#         with open(csv_file, newline='') as csvfile:\n",
    "#             reader = csv.DictReader(csvfile) \n",
    "#             for row in reader:\n",
    "#                 self.data_list.append(row['new_filename']+'.jpg') \n",
    "#                 if mode == 'train':\n",
    "#                     self.coordinate.append([float(row['top.left.x']),float(row['top.left.y']),float(row['bottom.right.x']),float(row['bottom.right.y'])])\n",
    "#                 if mode != 'train':\n",
    "#                     self.coordinate.append([float(row['tlx']),float(row['tly']),float(row['brx']),float(row['bry'])])\n",
    "#                 if mode != 'test':\n",
    "#                     self.text.append(row['label'])\n",
    "                    \n",
    "#     def __getitem__(self, index):\n",
    "        \n",
    "#         if self.mode == 'train':\n",
    "#             data = Image.open('../input/nstuocr/public/train/'+ self.data_list[index])\n",
    "#             data = data.crop((self.coordinate[index]))\n",
    "#             if self.transform is not None:\n",
    "#                 data = self.transform(data)\n",
    "                \n",
    "#         if self.mode == 'valid':\n",
    "#             data = Image.open('../input/nstuocr/public/test/'+ self.data_list[index])\n",
    "#             data = data.crop((self.coordinate[index]))\n",
    "#             if self.transform is not None:\n",
    "#                 data = self.transform(data)\n",
    "                \n",
    "#         if self.mode == 'test':\n",
    "#             data = Image.open('../input/nstuocr/private/private/'+ self.data_list[index])\n",
    "#             data = data.crop((self.coordinate[index]))\n",
    "#             if self.transform is not None:\n",
    "#                 data = self.transform(data)\n",
    "#                 data = data[None, :]\n",
    "#             return data\n",
    "#         text = self.text[index]\n",
    "#         target = [self.CHAR2LABEL[i] for i in text]\n",
    "#         target_length = [len(target)]\n",
    "        \n",
    "#         target = torch.LongTensor(target)\n",
    "#         target_length = torch.LongTensor(target_length)\n",
    "            \n",
    "#         return data, target, target_length\n",
    "\n",
    "#     def __len__(self):\n",
    "#         return len(self.data_list)"
   ]
  },
  {
   "cell_type": "code",
   "execution_count": 4,
   "id": "ff302b62",
   "metadata": {
    "execution": {
     "iopub.execute_input": "2021-10-24T13:10:47.593163Z",
     "iopub.status.busy": "2021-10-24T13:10:47.584327Z",
     "iopub.status.idle": "2021-10-24T13:10:47.595048Z",
     "shell.execute_reply": "2021-10-24T13:10:47.595413Z",
     "shell.execute_reply.started": "2021-10-24T13:06:08.600124Z"
    },
    "papermill": {
     "duration": 0.050734,
     "end_time": "2021-10-24T13:10:47.595584",
     "exception": false,
     "start_time": "2021-10-24T13:10:47.544850",
     "status": "completed"
    },
    "tags": []
   },
   "outputs": [],
   "source": [
    "class Dataset(torch.utils.data.Dataset):\n",
    "    \n",
    "    CHARS = '0123456789ABCDEFGHIJKLMNOPQRSTUVWXYZ'\n",
    "    CHAR2LABEL = {char: i + 1 for i, char in enumerate(CHARS)}\n",
    "    LABEL2CHAR = {label:char for char,label in CHAR2LABEL.items()}\n",
    "    \n",
    "    def __init__(self, csv_file, mode='train', transform=None):\n",
    "        \n",
    "        self.mode = mode # 'train', 'val' or 'test'\n",
    "        self.data_list = []\n",
    "        self.coordinate = []\n",
    "        self.text = []\n",
    "        self.angle = []\n",
    "        self.transform = transform\n",
    "              \n",
    "        with open(csv_file, newline='') as csvfile:\n",
    "            reader = csv.DictReader(csvfile) \n",
    "            \n",
    "            ########################################################################################################\n",
    "            temp = 0\n",
    "            ########################################################################################################\n",
    "            \n",
    "            for row in reader:\n",
    "            ########################################################################################################\n",
    "                temp += 1\n",
    "                if(temp == 32*3):\n",
    "                    break\n",
    "            ########################################################################################################\n",
    "                self.data_list.append(row['new_filename']+'.jpg') \n",
    "                self.angle.append(float(row['angle']))\n",
    "                self.coordinate.append([\n",
    "                        [ ceil(float(row['trx'])),floor(float(row['try']))],\n",
    "                        [ ceil(float(row['brx'])), ceil(float(row['bry']))],\n",
    "                        [floor(float(row['blx'])), ceil(float(row['bly']))],\n",
    "                        [floor(float(row['tlx'])),floor(float(row['tly']))]\n",
    "                    ])\n",
    "\n",
    "                if mode != 'test':\n",
    "                    self.text.append(row['label'])\n",
    "                    \n",
    "    def __getitem__(self, index):\n",
    "        \n",
    "        # image path\n",
    "        if self.mode == 'train':\n",
    "            img_path = '../input/nstuocr/public/train/'   + self.data_list[index]\n",
    "        if self.mode == 'valid':\n",
    "            img_path = '../input/nstuocr/public/test/'    + self.data_list[index]\n",
    "        if self.mode == 'test':\n",
    "            img_path = '../input/nstuocr/private/private/'+ self.data_list[index]\n",
    "            \n",
    "        # image\n",
    "        img = cv2.imread(img_path, cv2.IMREAD_GRAYSCALE)\n",
    "        \n",
    "        # rotation\n",
    "        ang = float(self.angle[index])\n",
    "        (h, w) = img.shape[:2]\n",
    "        M = cv2.getRotationMatrix2D((w/2,h/2), -ang, 1)\n",
    "        img = cv2.warpAffine(img, M, (w, h))\n",
    "        \n",
    "        # crop image\n",
    "        pts1 = np.array(self.coordinate[index])\n",
    "        pts = []\n",
    "        for (a,b) in pts1:\n",
    "            if a < 0:\n",
    "                a = 0\n",
    "            if b < 0:\n",
    "                b = 0\n",
    "            pts.append([a,b])\n",
    "        pts = np.array(pts)\n",
    "        height = img.shape[0]\n",
    "        width = img.shape[1]\n",
    "        mask = 255*np.ones((height, width), dtype=np.uint8)\n",
    "        cv2.fillPoly(mask, np.int32([pts]), (150))\n",
    "        res = cv2.bitwise_and(img, img, mask = mask)\n",
    "        rect = cv2.boundingRect(pts) # returns (x,y,w,h) of the rect\n",
    "        cropped = res[rect[1]: rect[1] + rect[3], rect[0]: rect[0] + rect[2]]\n",
    "\n",
    "        # denoise、二值化 preprocess\n",
    "        kernel = np.ones((3,3), np.uint8)\n",
    "        img = cv2.GaussianBlur(cropped, (5, 5), 0) \n",
    "        img = cv2.fastNlMeansDenoising(img, templateWindowSize=11, searchWindowSize=21, h=20)\n",
    "        img = cv2.dilate(img, kernel, iterations = 3)\n",
    "        img = cv2.erode(img, kernel, iterations = 3)\n",
    "        if(np.mean(img) > 70 and np.mean(img) < 100):\n",
    "            img = cv2.adaptiveThreshold(img, 255, cv2.ADAPTIVE_THRESH_GAUSSIAN_C, \\\n",
    "                                        cv2.THRESH_BINARY, 11, -0.05)\n",
    "            img = cv2.fastNlMeansDenoising(img, templateWindowSize=11, searchWindowSize=100, h=50)\n",
    "        elif (np.mean(img) > 120):\n",
    "            img = cv2.erode(img, kernel, iterations = 1)\n",
    "            img = cv2.adaptiveThreshold(img, 255, cv2.ADAPTIVE_THRESH_GAUSSIAN_C, \\\n",
    "                                        cv2.THRESH_BINARY, 11, -0.01)\n",
    "        else:\n",
    "            img = img\n",
    "        img = cv2.erode(img, kernel, iterations = 1)\n",
    "        img = cv2.dilate(img, kernel, iterations = 1)\n",
    "        img = cv2.erode(img, kernel, iterations = 1)\n",
    "        img = cv2.dilate(img, kernel, iterations = 1)\n",
    "\n",
    "        # change to PIL\n",
    "        data = Image.fromarray(img)\n",
    "        \n",
    "        if self.mode != 'test':\n",
    "            if self.transform is not None:\n",
    "                data = self.transform(data)\n",
    "        else:\n",
    "            if self.transform is not None:\n",
    "                data = self.transform(data)\n",
    "                data = data[None, :]\n",
    "            return data\n",
    "        \n",
    "        text = self.text[index]\n",
    "        target = [self.CHAR2LABEL[i] for i in text]\n",
    "        target_length = [len(target)]\n",
    "        \n",
    "        target = torch.LongTensor(target)\n",
    "        target_length = torch.LongTensor(target_length)\n",
    "            \n",
    "        return data, target, target_length\n",
    "\n",
    "    def __len__(self):\n",
    "        return len(self.data_list)"
   ]
  },
  {
   "cell_type": "code",
   "execution_count": 5,
   "id": "89a06395",
   "metadata": {
    "execution": {
     "iopub.execute_input": "2021-10-24T13:10:47.644105Z",
     "iopub.status.busy": "2021-10-24T13:10:47.643376Z",
     "iopub.status.idle": "2021-10-24T13:10:47.892017Z",
     "shell.execute_reply": "2021-10-24T13:10:47.891549Z",
     "shell.execute_reply.started": "2021-10-24T13:06:09.359498Z"
    },
    "papermill": {
     "duration": 0.274851,
     "end_time": "2021-10-24T13:10:47.892132",
     "exception": false,
     "start_time": "2021-10-24T13:10:47.617281",
     "status": "completed"
    },
    "tags": []
   },
   "outputs": [],
   "source": [
    "from torchvision import transforms\n",
    "\n",
    "transforms_train = transforms.Compose([\n",
    "transforms.Resize((64, 300)),         \n",
    "#transforms.RandomCrop((224, 224)),      #將照片隨機裁減為224x224的大小\n",
    "#transforms.RandomHorizontalFlip(p=0.5), #0.5的機率是否水平翻轉\n",
    "#transforms.RandomVerticalFlip(p=0.5),   #0.5的機率是否垂直翻轉\n",
    "#transforms.RandomRotation(degrees=(-90, 90)),  #隨機地在-90~90度間旋轉\n",
    "transforms.ToTensor(),  #將照片轉成tensor 並且將數值都轉換成0~1 \n",
    "#transforms.Normalize(mean=[0.485, 0.456, 0.406], std=[0.229, 0.224, 0.225]),\n",
    "])\n",
    "\n",
    "transforms_test = transforms.Compose([\n",
    "transforms.Resize((64, 300)),\n",
    "#transforms.CenterCrop((224, 224)),\n",
    "transforms.ToTensor(),\n",
    "#transforms.Normalize(mean=[0.485, 0.456, 0.406], std=[0.229, 0.224, 0.225]),\n",
    "])\n"
   ]
  },
  {
   "cell_type": "code",
   "execution_count": 6,
   "id": "1bc8320c",
   "metadata": {
    "execution": {
     "iopub.execute_input": "2021-10-24T13:10:47.941752Z",
     "iopub.status.busy": "2021-10-24T13:10:47.940959Z",
     "iopub.status.idle": "2021-10-24T13:10:47.971165Z",
     "shell.execute_reply": "2021-10-24T13:10:47.971722Z",
     "shell.execute_reply.started": "2021-10-24T13:06:09.976248Z"
    },
    "papermill": {
     "duration": 0.057405,
     "end_time": "2021-10-24T13:10:47.971864",
     "exception": false,
     "start_time": "2021-10-24T13:10:47.914459",
     "status": "completed"
    },
    "tags": []
   },
   "outputs": [],
   "source": [
    "dataset_train = Dataset('../input/nstuocr/public_training_data_new2.csv', mode='train',transform=transforms_train)\n",
    "dataset_val = Dataset('../input/nstuocr/public_testing_data_new2.csv', mode='valid', transform=transforms_train)\n",
    "dataset_test = Dataset('../input/nstuocr/private_data_new2.csv', mode='test', transform=transforms_train)"
   ]
  },
  {
   "cell_type": "code",
   "execution_count": 7,
   "id": "fe4b2a06",
   "metadata": {
    "execution": {
     "iopub.execute_input": "2021-10-24T13:10:48.019130Z",
     "iopub.status.busy": "2021-10-24T13:10:48.018544Z",
     "iopub.status.idle": "2021-10-24T13:10:48.677129Z",
     "shell.execute_reply": "2021-10-24T13:10:48.677788Z",
     "shell.execute_reply.started": "2021-10-24T13:06:11.223373Z"
    },
    "papermill": {
     "duration": 0.684213,
     "end_time": "2021-10-24T13:10:48.678011",
     "exception": false,
     "start_time": "2021-10-24T13:10:47.993798",
     "status": "completed"
    },
    "tags": []
   },
   "outputs": [
    {
     "name": "stdout",
     "output_type": "stream",
     "text": [
      "(tensor([[[0.0039, 0.0039, 0.0039,  ..., 0.0039, 0.0039, 0.0039],\n",
      "         [0.0039, 0.0039, 0.0039,  ..., 0.0039, 0.0039, 0.0039],\n",
      "         [0.0039, 0.0039, 0.0039,  ..., 0.0039, 0.0039, 0.0039],\n",
      "         ...,\n",
      "         [0.0039, 0.0039, 0.0039,  ..., 0.0039, 0.0039, 0.0039],\n",
      "         [0.0039, 0.0039, 0.0039,  ..., 0.0000, 0.0000, 0.0000],\n",
      "         [0.0039, 0.0039, 0.0039,  ..., 0.0000, 0.0000, 0.0000]]]), tensor([ 4, 22, 24, 10, 10,  7,  1,  2,  3, 16]), tensor([10]))\n"
     ]
    },
    {
     "data": {
      "text/plain": [
       "'3LN996012F'"
      ]
     },
     "execution_count": 7,
     "metadata": {},
     "output_type": "execute_result"
    }
   ],
   "source": [
    "print(dataset_train.__getitem__(0))\n",
    "dataset_train.text[0]"
   ]
  },
  {
   "cell_type": "code",
   "execution_count": 8,
   "id": "da3b3142",
   "metadata": {
    "execution": {
     "iopub.execute_input": "2021-10-24T13:10:48.729258Z",
     "iopub.status.busy": "2021-10-24T13:10:48.726252Z",
     "iopub.status.idle": "2021-10-24T13:10:49.707815Z",
     "shell.execute_reply": "2021-10-24T13:10:49.708708Z",
     "shell.execute_reply.started": "2021-10-24T13:06:12.029686Z"
    },
    "papermill": {
     "duration": 1.007659,
     "end_time": "2021-10-24T13:10:49.708916",
     "exception": false,
     "start_time": "2021-10-24T13:10:48.701257",
     "status": "completed"
    },
    "tags": []
   },
   "outputs": [
    {
     "name": "stdout",
     "output_type": "stream",
     "text": [
      "The first image's shape in dataset_train : torch.Size([1, 64, 300])\n",
      "There are 95 images in dataset_train.\n",
      "--------------------------------------------------\n",
      "The first image's shape in dataset_val : torch.Size([1, 64, 300])\n",
      "There are 95 images in dataset_val.\n",
      "--------------------------------------------------\n",
      "The first image's shape in dataset_test : torch.Size([1, 64, 300])\n",
      "There are 95 images in dataset_test.\n"
     ]
    }
   ],
   "source": [
    "print(\"The first image's shape in dataset_train :\", dataset_train.__getitem__(0)[0].size()) #[0]means data\n",
    "print(\"There are\", dataset_train.__len__(), \"images in dataset_train.\")\n",
    "print('-'*50)\n",
    "\n",
    "print(\"The first image's shape in dataset_val :\", dataset_val.__getitem__(0)[0].size()) #[0]means data\n",
    "print(\"There are\", dataset_val.__len__(), \"images in dataset_val.\")\n",
    "print('-'*50)\n",
    "\n",
    "print(\"The first image's shape in dataset_test :\", dataset_test.__getitem__(0)[0].size()) #[0]means data\n",
    "print(\"There are\", dataset_test.__len__(), \"images in dataset_test.\")"
   ]
  },
  {
   "cell_type": "code",
   "execution_count": 9,
   "id": "4e1e8702",
   "metadata": {
    "execution": {
     "iopub.execute_input": "2021-10-24T13:10:49.760951Z",
     "iopub.status.busy": "2021-10-24T13:10:49.760039Z",
     "iopub.status.idle": "2021-10-24T13:10:50.272311Z",
     "shell.execute_reply": "2021-10-24T13:10:50.272790Z",
     "shell.execute_reply.started": "2021-10-24T13:06:13.199828Z"
    },
    "papermill": {
     "duration": 0.540149,
     "end_time": "2021-10-24T13:10:50.272946",
     "exception": false,
     "start_time": "2021-10-24T13:10:49.732797",
     "status": "completed"
    },
    "tags": []
   },
   "outputs": [
    {
     "name": "stdout",
     "output_type": "stream",
     "text": [
      "Answer: 3LN996012F\n",
      "label(encoding): tensor([ 4, 22, 24, 10, 10,  7,  1,  2,  3, 16])\n",
      "label length: 10\n",
      "data dimension: torch.Size([1, 64, 300])\n"
     ]
    }
   ],
   "source": [
    "# check data \n",
    "\n",
    "data, label, label_length = dataset_train.__getitem__(0)\n",
    "print('Answer:',dataset_train.text[0])\n",
    "print('label(encoding):',label)\n",
    "print('label length:',label_length.item())\n",
    "print('data dimension:',data.size())"
   ]
  },
  {
   "cell_type": "code",
   "execution_count": 10,
   "id": "f06b9e50",
   "metadata": {
    "execution": {
     "iopub.execute_input": "2021-10-24T13:10:50.325202Z",
     "iopub.status.busy": "2021-10-24T13:10:50.324429Z",
     "iopub.status.idle": "2021-10-24T13:10:51.034137Z",
     "shell.execute_reply": "2021-10-24T13:10:51.034591Z",
     "shell.execute_reply.started": "2021-10-24T13:06:15.353524Z"
    },
    "papermill": {
     "duration": 0.738378,
     "end_time": "2021-10-24T13:10:51.034756",
     "exception": false,
     "start_time": "2021-10-24T13:10:50.296378",
     "status": "completed"
    },
    "tags": []
   },
   "outputs": [
    {
     "name": "stdout",
     "output_type": "stream",
     "text": [
      "Label =  3LN996012F\n"
     ]
    },
    {
     "data": {
      "image/png": "[encoded data removed]",
      "text/plain": [
       "<Figure size 432x288 with 1 Axes>"
      ]
     },
     "metadata": {
      "needs_background": "light"
     },
     "output_type": "display_data"
    }
   ],
   "source": [
    "def imshow(tensor, title=None):\n",
    "    unloader = transforms.ToPILImage()\n",
    "    image = tensor.cpu().clone()  # we clone the tensor to not do changes on it\n",
    "    image = image.squeeze(0)  # remove the fake batch dimension\n",
    "    image = unloader(image)\n",
    "    plt.imshow(image, 'gray')\n",
    "\n",
    "imshow(dataset_train.__getitem__(0)[0]) #train\n",
    "# data = Image.open('../input/nstuocr/public/train/public_train_7645.jpg')\n",
    "# data = data.crop((370.62106,418.18262,707.5107,455.8296))\n",
    "print('Label = ',dataset_train.text[0])\n",
    "# display(data)"
   ]
  },
  {
   "cell_type": "code",
   "execution_count": 11,
   "id": "3853a8e0",
   "metadata": {
    "execution": {
     "iopub.execute_input": "2021-10-24T13:10:51.087624Z",
     "iopub.status.busy": "2021-10-24T13:10:51.087062Z",
     "iopub.status.idle": "2021-10-24T13:10:51.307967Z",
     "shell.execute_reply": "2021-10-24T13:10:51.307539Z",
     "shell.execute_reply.started": "2021-10-24T13:06:16.423094Z"
    },
    "papermill": {
     "duration": 0.248918,
     "end_time": "2021-10-24T13:10:51.308085",
     "exception": false,
     "start_time": "2021-10-24T13:10:51.059167",
     "status": "completed"
    },
    "tags": []
   },
   "outputs": [
    {
     "name": "stdout",
     "output_type": "stream",
     "text": [
      "Label =  1W3624022A\n"
     ]
    },
    {
     "data": {
      "image/png": "[encoded data removed]",
      "text/plain": [
       "<Figure size 432x288 with 1 Axes>"
      ]
     },
     "metadata": {
      "needs_background": "light"
     },
     "output_type": "display_data"
    }
   ],
   "source": [
    "imshow(dataset_val.__getitem__(0)[0]) #valid\n",
    "# data = Image.open('../input/nstuocr/public/test/public_test_419.jpg')\n",
    "# data = data.crop((450.519104,433.1921692,792.390625,476.0797729))\n",
    "print('Label = ',dataset_val.text[0])\n",
    "# data"
   ]
  },
  {
   "cell_type": "code",
   "execution_count": 12,
   "id": "78077bcd",
   "metadata": {
    "execution": {
     "iopub.execute_input": "2021-10-24T13:10:51.363432Z",
     "iopub.status.busy": "2021-10-24T13:10:51.362724Z",
     "iopub.status.idle": "2021-10-24T13:10:51.914861Z",
     "shell.execute_reply": "2021-10-24T13:10:51.915234Z",
     "shell.execute_reply.started": "2021-10-24T13:06:17.844255Z"
    },
    "papermill": {
     "duration": 0.581378,
     "end_time": "2021-10-24T13:10:51.915380",
     "exception": false,
     "start_time": "2021-10-24T13:10:51.334002",
     "status": "completed"
    },
    "tags": []
   },
   "outputs": [
    {
     "data": {
      "image/png": "[encoded data removed]",
      "text/plain": [
       "<Figure size 432x288 with 1 Axes>"
      ]
     },
     "metadata": {
      "needs_background": "light"
     },
     "output_type": "display_data"
    }
   ],
   "source": [
    "imshow(dataset_test.__getitem__(0)[0]) #test\n",
    "# data = Image.open('../input/nstuocr/private/private/private_3761.jpg')\n",
    "# data = data.crop((486.6741943,475.1752625,742.5422974,\n",
    "# 513.0866699))\n",
    "# data"
   ]
  },
  {
   "cell_type": "markdown",
   "id": "9253f09d",
   "metadata": {
    "papermill": {
     "duration": 0.026053,
     "end_time": "2021-10-24T13:10:51.968024",
     "exception": false,
     "start_time": "2021-10-24T13:10:51.941971",
     "status": "completed"
    },
    "tags": []
   },
   "source": [
    "## 1.2 Dataloader"
   ]
  },
  {
   "cell_type": "code",
   "execution_count": 13,
   "id": "87e0bb00",
   "metadata": {
    "execution": {
     "iopub.execute_input": "2021-10-24T13:10:52.028177Z",
     "iopub.status.busy": "2021-10-24T13:10:52.026620Z",
     "iopub.status.idle": "2021-10-24T13:10:52.028833Z",
     "shell.execute_reply": "2021-10-24T13:10:52.029233Z",
     "shell.execute_reply.started": "2021-10-24T13:06:21.162655Z"
    },
    "papermill": {
     "duration": 0.035211,
     "end_time": "2021-10-24T13:10:52.029348",
     "exception": false,
     "start_time": "2021-10-24T13:10:51.994137",
     "status": "completed"
    },
    "tags": []
   },
   "outputs": [],
   "source": [
    "from torch.utils.data import DataLoader\n",
    "\n",
    "def collate_fn_steel(batch):\n",
    "    images, targets, target_lengths = zip(*batch)\n",
    "    images = torch.stack(images, 0)\n",
    "    targets = torch.cat(targets, 0)\n",
    "    target_lengths = torch.cat(target_lengths, 0)\n",
    "    return images, targets, target_lengths\n",
    "\n",
    "train_loader = DataLoader(dataset_train, batch_size=32, shuffle=True,collate_fn=collate_fn_steel)\n",
    "val_loader = DataLoader(dataset_val, batch_size=32, shuffle=False,collate_fn=collate_fn_steel)\n",
    "test_loader = DataLoader(dataset_test, batch_size=32, shuffle=False)"
   ]
  },
  {
   "cell_type": "markdown",
   "id": "640f8008",
   "metadata": {
    "papermill": {
     "duration": 0.025982,
     "end_time": "2021-10-24T13:10:52.081323",
     "exception": false,
     "start_time": "2021-10-24T13:10:52.055341",
     "status": "completed"
    },
    "tags": []
   },
   "source": [
    "# Second step: Buil up CRNN model"
   ]
  },
  {
   "cell_type": "markdown",
   "id": "554fb35f",
   "metadata": {
    "papermill": {
     "duration": 0.035036,
     "end_time": "2021-10-24T13:10:52.142805",
     "exception": false,
     "start_time": "2021-10-24T13:10:52.107769",
     "status": "completed"
    },
    "tags": []
   },
   "source": [
    "## 2.1 Build up nn model"
   ]
  },
  {
   "cell_type": "code",
   "execution_count": 14,
   "id": "7dc61f42",
   "metadata": {
    "execution": {
     "iopub.execute_input": "2021-10-24T13:10:52.213844Z",
     "iopub.status.busy": "2021-10-24T13:10:52.213011Z",
     "iopub.status.idle": "2021-10-24T13:10:52.214838Z",
     "shell.execute_reply": "2021-10-24T13:10:52.215239Z",
     "shell.execute_reply.started": "2021-10-24T13:06:23.316258Z"
    },
    "papermill": {
     "duration": 0.04557,
     "end_time": "2021-10-24T13:10:52.215355",
     "exception": false,
     "start_time": "2021-10-24T13:10:52.169785",
     "status": "completed"
    },
    "tags": []
   },
   "outputs": [],
   "source": [
    "import torch.nn as nn\n",
    "\n",
    "\n",
    "class CRNN(nn.Module):\n",
    "\n",
    "    def __init__(self, img_channel, img_height, img_width, num_class,\n",
    "                 map_to_seq_hidden=64, rnn_hidden=256, leaky_relu=False):\n",
    "        super(CRNN, self).__init__()\n",
    "\n",
    "        self.cnn, (output_channel, output_height, output_width) = \\\n",
    "            self._cnn_backbone(img_channel, img_height, img_width, leaky_relu)\n",
    "\n",
    "        self.map_to_seq = nn.Linear(output_channel * output_height, map_to_seq_hidden)\n",
    "\n",
    "        self.rnn1 = nn.LSTM(map_to_seq_hidden, rnn_hidden, bidirectional=True)\n",
    "        self.rnn2 = nn.LSTM(2 * rnn_hidden, rnn_hidden, bidirectional=True)\n",
    "\n",
    "        self.dense = nn.Linear(2 * rnn_hidden, num_class)\n",
    "\n",
    "    def _cnn_backbone(self, img_channel, img_height, img_width, leaky_relu):\n",
    "        assert img_height % 16 == 0\n",
    "        assert img_width % 4 == 0\n",
    "\n",
    "        channels = [img_channel, 64, 128, 256, 256, 512, 512, 512]\n",
    "        kernel_sizes = [3, 3, 3, 3, 3, 3, 2]\n",
    "        strides = [1, 1, 1, 1, 1, 1, 1]\n",
    "        paddings = [1, 1, 1, 1, 1, 1, 0]\n",
    "\n",
    "        cnn = nn.Sequential()\n",
    "\n",
    "        def conv_relu(i, batch_norm=False):\n",
    "            # shape of input: (batch, input_channel, height, width)\n",
    "            input_channel = channels[i]\n",
    "            output_channel = channels[i+1]\n",
    "\n",
    "            cnn.add_module(\n",
    "                f'conv{i}',\n",
    "                nn.Conv2d(input_channel, output_channel, kernel_sizes[i], strides[i], paddings[i])\n",
    "            )\n",
    "\n",
    "            if batch_norm:\n",
    "                cnn.add_module(f'batchnorm{i}', nn.BatchNorm2d(output_channel))\n",
    "\n",
    "            relu = nn.LeakyReLU(0.2, inplace=True) if leaky_relu else nn.ReLU(inplace=True)\n",
    "            cnn.add_module(f'relu{i}', relu)\n",
    "\n",
    "        # size of image: (channel, height, width) = (img_channel, img_height, img_width)\n",
    "        conv_relu(0)\n",
    "        cnn.add_module('pooling0', nn.MaxPool2d(kernel_size=2, stride=2))\n",
    "        # (64, img_height // 2, img_width // 2)\n",
    "\n",
    "        conv_relu(1)\n",
    "        cnn.add_module('pooling1', nn.MaxPool2d(kernel_size=2, stride=2))\n",
    "        # (128, img_height // 4, img_width // 4)\n",
    "\n",
    "        conv_relu(2)\n",
    "        conv_relu(3)\n",
    "        cnn.add_module(\n",
    "            'pooling2',\n",
    "            nn.MaxPool2d(kernel_size=(2, 1))\n",
    "        )  # (256, img_height // 8, img_width // 4)\n",
    "\n",
    "        conv_relu(4, batch_norm=True)\n",
    "        conv_relu(5, batch_norm=True)\n",
    "        cnn.add_module(\n",
    "            'pooling3',\n",
    "            nn.MaxPool2d(kernel_size=(2, 1))\n",
    "        )  # (512, img_height // 16, img_width // 4)\n",
    "\n",
    "        conv_relu(6)  # (512, img_height // 16 - 1, img_width // 4 - 1)\n",
    "\n",
    "        output_channel, output_height, output_width = \\\n",
    "            channels[-1], img_height // 16 - 1, img_width // 4 - 1\n",
    "        return cnn, (output_channel, output_height, output_width)\n",
    "\n",
    "    def forward(self, images):\n",
    "        # shape of images: (batch, channel, height, width)\n",
    "\n",
    "        conv = self.cnn(images)\n",
    "        batch, channel, height, width = conv.size()\n",
    "\n",
    "        conv = conv.view(batch, channel * height, width)\n",
    "        conv = conv.permute(2, 0, 1)  # (width, batch, feature)\n",
    "        seq = self.map_to_seq(conv)\n",
    "\n",
    "        recurrent, _ = self.rnn1(seq)\n",
    "        recurrent, _ = self.rnn2(recurrent)\n",
    "\n",
    "        output = self.dense(recurrent)\n",
    "        return output  # shape: (seq_len, batch, num_class)"
   ]
  },
  {
   "cell_type": "code",
   "execution_count": 15,
   "id": "f0541500",
   "metadata": {
    "execution": {
     "iopub.execute_input": "2021-10-24T13:10:52.273270Z",
     "iopub.status.busy": "2021-10-24T13:10:52.272765Z",
     "iopub.status.idle": "2021-10-24T13:10:55.921970Z",
     "shell.execute_reply": "2021-10-24T13:10:55.921335Z",
     "shell.execute_reply.started": "2021-10-24T13:06:23.767259Z"
    },
    "papermill": {
     "duration": 3.680504,
     "end_time": "2021-10-24T13:10:55.922103",
     "exception": false,
     "start_time": "2021-10-24T13:10:52.241599",
     "status": "completed"
    },
    "tags": []
   },
   "outputs": [],
   "source": [
    "model = CRNN(img_channel=1,img_height=64,img_width=300,num_class=37)\n",
    "device = torch.device('cuda')\n",
    "model = model.to(device)"
   ]
  },
  {
   "cell_type": "markdown",
   "id": "2f43ed3c",
   "metadata": {
    "papermill": {
     "duration": 0.027626,
     "end_time": "2021-10-24T13:10:55.978896",
     "exception": false,
     "start_time": "2021-10-24T13:10:55.951270",
     "status": "completed"
    },
    "tags": []
   },
   "source": [
    "## 2.1 check model and output dimension"
   ]
  },
  {
   "cell_type": "code",
   "execution_count": 16,
   "id": "f1c90170",
   "metadata": {
    "execution": {
     "iopub.execute_input": "2021-10-24T13:10:56.038680Z",
     "iopub.status.busy": "2021-10-24T13:10:56.037913Z",
     "iopub.status.idle": "2021-10-24T13:11:01.133021Z",
     "shell.execute_reply": "2021-10-24T13:11:01.133856Z",
     "shell.execute_reply.started": "2021-10-24T13:06:27.273598Z"
    },
    "papermill": {
     "duration": 5.128382,
     "end_time": "2021-10-24T13:11:01.134011",
     "exception": false,
     "start_time": "2021-10-24T13:10:56.005629",
     "status": "completed"
    },
    "tags": []
   },
   "outputs": [
    {
     "name": "stdout",
     "output_type": "stream",
     "text": [
      "tensor([ 0.0255,  0.0463, -0.0260, -0.0139,  0.0382, -0.0275, -0.0078, -0.0085,\n",
      "         0.0396, -0.0373,  0.0274, -0.0117, -0.0077, -0.0004, -0.0392, -0.0460,\n",
      "        -0.0084,  0.0500,  0.0387, -0.0081, -0.0267,  0.0468,  0.0060, -0.0301,\n",
      "        -0.0087, -0.0069, -0.0274,  0.0119,  0.0090,  0.0054,  0.0179, -0.0150,\n",
      "         0.0310, -0.0154,  0.0208, -0.0318,  0.0199], device='cuda:0',\n",
      "       grad_fn=<SelectBackward>)\n",
      "torch.Size([74, 32, 37])\n",
      "tensor([-3.5866, -3.5658, -3.6381, -3.6259, -3.5739, -3.6395, -3.6199, -3.6206,\n",
      "        -3.5725, -3.6493, -3.5847, -3.6237, -3.6198, -3.6125, -3.6513, -3.6581,\n",
      "        -3.6205, -3.5620, -3.5734, -3.6202, -3.6387, -3.5653, -3.6061, -3.6422,\n",
      "        -3.6207, -3.6190, -3.6395, -3.6002, -3.6031, -3.6067, -3.5942, -3.6271,\n",
      "        -3.5811, -3.6275, -3.5913, -3.6439, -3.5922], device='cuda:0',\n",
      "       grad_fn=<SelectBackward>)\n",
      "torch.Size([74, 32, 37])\n"
     ]
    }
   ],
   "source": [
    "x = torch.rand(32, 1, 64, 300) # generate fake data\n",
    "x = x.to(device)\n",
    "out = model(x) # output of category and attribute\n",
    "print(out[1,1,])\n",
    "print(out.size()) # width,batch,num_calss (width : num_sequence ,and each sequence has it's own prediction )\n",
    "print(nn.functional.log_softmax(out, dim=2)[1,1,])\n",
    "print(nn.functional.log_softmax(out, dim=2).shape)"
   ]
  },
  {
   "cell_type": "markdown",
   "id": "df937532",
   "metadata": {
    "papermill": {
     "duration": 0.026629,
     "end_time": "2021-10-24T13:11:01.187542",
     "exception": false,
     "start_time": "2021-10-24T13:11:01.160913",
     "status": "completed"
    },
    "tags": []
   },
   "source": [
    "# Third step: Define CTC decoder "
   ]
  },
  {
   "cell_type": "code",
   "execution_count": 17,
   "id": "f7a7029e",
   "metadata": {
    "execution": {
     "iopub.execute_input": "2021-10-24T13:11:01.263142Z",
     "iopub.status.busy": "2021-10-24T13:11:01.262422Z",
     "iopub.status.idle": "2021-10-24T13:11:01.391935Z",
     "shell.execute_reply": "2021-10-24T13:11:01.391496Z",
     "shell.execute_reply.started": "2021-10-24T13:06:32.312208Z"
    },
    "papermill": {
     "duration": 0.177414,
     "end_time": "2021-10-24T13:11:01.392059",
     "exception": false,
     "start_time": "2021-10-24T13:11:01.214645",
     "status": "completed"
    },
    "tags": []
   },
   "outputs": [],
   "source": [
    "from collections import defaultdict\n",
    "from scipy.special import logsumexp  # log(p1 + p2) = logsumexp([log_p1, log_p2])\n",
    "\n",
    "NINF = -1 * float('inf')\n",
    "DEFAULT_EMISSION_THRESHOLD = 0.01\n",
    "\n",
    "\n",
    "def _reconstruct(labels, blank=0):\n",
    "    new_labels = []\n",
    "    # merge same labels\n",
    "    previous = None\n",
    "    for l in labels:\n",
    "        if l != previous:\n",
    "            new_labels.append(l)\n",
    "            previous = l\n",
    "    # delete blank\n",
    "    new_labels = [l for l in new_labels if l != blank]\n",
    "\n",
    "    return new_labels\n",
    "\n",
    "\n",
    "def greedy_decode(emission_log_prob, blank=0, **kwargs):\n",
    "    labels = np.argmax(emission_log_prob, axis=-1)\n",
    "    labels = _reconstruct(labels, blank=blank)\n",
    "    return labels\n",
    "\n",
    "\n",
    "def beam_search_decode(emission_log_prob, blank=0, **kwargs):\n",
    "    beam_size = kwargs['beam_size']\n",
    "    emission_threshold = kwargs.get('emission_threshold', np.log(DEFAULT_EMISSION_THRESHOLD))\n",
    "\n",
    "    length, class_count = emission_log_prob.shape\n",
    "\n",
    "    beams = [([], 0)]  # (prefix, accumulated_log_prob)\n",
    "    for t in range(length):\n",
    "        new_beams = []\n",
    "        for prefix, accumulated_log_prob in beams:\n",
    "            for c in range(class_count):\n",
    "                log_prob = emission_log_prob[t, c]\n",
    "                if log_prob < emission_threshold:\n",
    "                    continue\n",
    "                new_prefix = prefix + [c]\n",
    "                # log(p1 * p2) = log_p1 + log_p2\n",
    "                new_accu_log_prob = accumulated_log_prob + log_prob\n",
    "                new_beams.append((new_prefix, new_accu_log_prob))\n",
    "\n",
    "        # sorted by accumulated_log_prob\n",
    "        new_beams.sort(key=lambda x: x[1], reverse=True)\n",
    "        beams = new_beams[:beam_size]\n",
    "\n",
    "    # sum up beams to produce labels\n",
    "    total_accu_log_prob = {}\n",
    "    for prefix, accu_log_prob in beams:\n",
    "        labels = tuple(_reconstruct(prefix))\n",
    "        # log(p1 + p2) = logsumexp([log_p1, log_p2])\n",
    "        total_accu_log_prob[labels] = \\\n",
    "            logsumexp([accu_log_prob, total_accu_log_prob.get(labels, NINF)])\n",
    "\n",
    "    labels_beams = [(list(labels), accu_log_prob)\n",
    "                    for labels, accu_log_prob in total_accu_log_prob.items()]\n",
    "    labels_beams.sort(key=lambda x: x[1], reverse=True)\n",
    "    labels = labels_beams[0][0]\n",
    "\n",
    "    return labels\n",
    "\n",
    "\n",
    "def prefix_beam_decode(emission_log_prob, blank=0, **kwargs):\n",
    "    beam_size = kwargs['beam_size']\n",
    "    emission_threshold = kwargs.get('emission_threshold', np.log(DEFAULT_EMISSION_THRESHOLD))\n",
    "\n",
    "    length, class_count = emission_log_prob.shape\n",
    "\n",
    "    beams = [(tuple(), (0, NINF))]  # (prefix, (blank_log_prob, non_blank_log_prob))\n",
    "    # initial of beams: (empty_str, (log(1.0), log(0.0)))\n",
    "\n",
    "    for t in range(length):\n",
    "        new_beams_dict = defaultdict(lambda: (NINF, NINF))  # log(0.0) = NINF\n",
    "\n",
    "        for prefix, (lp_b, lp_nb) in beams:\n",
    "            for c in range(class_count):\n",
    "                log_prob = emission_log_prob[t, c]\n",
    "                if log_prob < emission_threshold:\n",
    "                    continue\n",
    "\n",
    "                end_t = prefix[-1] if prefix else None\n",
    "\n",
    "                # if new_prefix == prefix\n",
    "                new_lp_b, new_lp_nb = new_beams_dict[prefix]\n",
    "\n",
    "                if c == blank:\n",
    "                    new_beams_dict[prefix] = (\n",
    "                        logsumexp([new_lp_b, lp_b + log_prob, lp_nb + log_prob]),\n",
    "                        new_lp_nb\n",
    "                    )\n",
    "                    continue\n",
    "                if c == end_t:\n",
    "                    new_beams_dict[prefix] = (\n",
    "                        new_lp_b,\n",
    "                        logsumexp([new_lp_nb, lp_nb + log_prob])\n",
    "                    )\n",
    "\n",
    "                # if new_prefix == prefix + (c,)\n",
    "                new_prefix = prefix + (c,)\n",
    "                new_lp_b, new_lp_nb = new_beams_dict[new_prefix]\n",
    "\n",
    "                if c != end_t:\n",
    "                    new_beams_dict[new_prefix] = (\n",
    "                        new_lp_b,\n",
    "                        logsumexp([new_lp_nb, lp_b + log_prob, lp_nb + log_prob])\n",
    "                    )\n",
    "                else:\n",
    "                    new_beams_dict[new_prefix] = (\n",
    "                        new_lp_b,\n",
    "                        logsumexp([new_lp_nb, lp_b + log_prob])\n",
    "                    )\n",
    "\n",
    "        # sorted by log(blank_prob + non_blank_prob)\n",
    "        beams = sorted(new_beams_dict.items(), key=lambda x: logsumexp(x[1]), reverse=True)\n",
    "        beams = beams[:beam_size]\n",
    "\n",
    "    labels = list(beams[0][0])\n",
    "    return labels\n",
    "\n",
    "\n",
    "def ctc_decode(log_probs, label2char=None, blank=0, method='beam_search', beam_size=10):\n",
    "    emission_log_probs = np.transpose(log_probs.cpu().numpy(), (1, 0, 2))\n",
    "    # size of emission_log_probs: (batch, length, class)\n",
    "\n",
    "    decoders = {\n",
    "        'greedy': greedy_decode,\n",
    "        'beam_search': beam_search_decode,\n",
    "        'prefix_beam_search': prefix_beam_decode,\n",
    "    }\n",
    "    decoder = decoders[method]\n",
    "\n",
    "    decoded_list = []\n",
    "    for emission_log_prob in emission_log_probs:\n",
    "        decoded = decoder(emission_log_prob, blank=blank, beam_size=beam_size)\n",
    "        if label2char:\n",
    "            decoded = [label2char[l] for l in decoded]\n",
    "        decoded_list.append(decoded)\n",
    "    return decoded_list"
   ]
  },
  {
   "cell_type": "markdown",
   "id": "1f389ee1",
   "metadata": {
    "papermill": {
     "duration": 0.025801,
     "end_time": "2021-10-24T13:11:01.444128",
     "exception": false,
     "start_time": "2021-10-24T13:11:01.418327",
     "status": "completed"
    },
    "tags": []
   },
   "source": [
    "# Fourth step: Define training and validation model "
   ]
  },
  {
   "cell_type": "markdown",
   "id": "cd1801d5",
   "metadata": {
    "papermill": {
     "duration": 0.026333,
     "end_time": "2021-10-24T13:11:01.496674",
     "exception": false,
     "start_time": "2021-10-24T13:11:01.470341",
     "status": "completed"
    },
    "tags": []
   },
   "source": [
    "## 4.1 Define training model"
   ]
  },
  {
   "cell_type": "code",
   "execution_count": 18,
   "id": "f6274c0a",
   "metadata": {
    "execution": {
     "iopub.execute_input": "2021-10-24T13:11:01.557547Z",
     "iopub.status.busy": "2021-10-24T13:11:01.556889Z",
     "iopub.status.idle": "2021-10-24T13:11:01.559549Z",
     "shell.execute_reply": "2021-10-24T13:11:01.559073Z",
     "shell.execute_reply.started": "2021-10-24T13:06:32.483859Z"
    },
    "papermill": {
     "duration": 0.035704,
     "end_time": "2021-10-24T13:11:01.559657",
     "exception": false,
     "start_time": "2021-10-24T13:11:01.523953",
     "status": "completed"
    },
    "tags": []
   },
   "outputs": [],
   "source": [
    "def train_batch(crnn, data, optimizer, criterion, device):\n",
    "    crnn.train()\n",
    "    images, targets, target_lengths = [d.to(device) for d in data]\n",
    "\n",
    "    logits = crnn(images)\n",
    "    log_probs = torch.nn.functional.log_softmax(logits, dim=2)\n",
    "\n",
    "    batch_size = images.size(0)\n",
    "    input_lengths = torch.LongTensor([logits.size(0)] * batch_size)\n",
    "    target_lengths = torch.flatten(target_lengths)\n",
    "\n",
    "    loss = criterion(log_probs, targets, input_lengths, target_lengths)\n",
    "\n",
    "    optimizer.zero_grad()\n",
    "    loss.backward()\n",
    "    optimizer.step()\n",
    "    return loss.item()"
   ]
  },
  {
   "cell_type": "markdown",
   "id": "ff293158",
   "metadata": {
    "papermill": {
     "duration": 0.02592,
     "end_time": "2021-10-24T13:11:01.611675",
     "exception": false,
     "start_time": "2021-10-24T13:11:01.585755",
     "status": "completed"
    },
    "tags": []
   },
   "source": [
    "## 4.2 Define Validation model"
   ]
  },
  {
   "cell_type": "code",
   "execution_count": 19,
   "id": "f969a9f1",
   "metadata": {
    "execution": {
     "iopub.execute_input": "2021-10-24T13:11:01.671962Z",
     "iopub.status.busy": "2021-10-24T13:11:01.671172Z",
     "iopub.status.idle": "2021-10-24T13:11:01.676847Z",
     "shell.execute_reply": "2021-10-24T13:11:01.677287Z",
     "shell.execute_reply.started": "2021-10-24T13:06:32.492200Z"
    },
    "papermill": {
     "duration": 0.039396,
     "end_time": "2021-10-24T13:11:01.677404",
     "exception": false,
     "start_time": "2021-10-24T13:11:01.638008",
     "status": "completed"
    },
    "tags": []
   },
   "outputs": [],
   "source": [
    "def vaild_model(crnn, dataloader, criterion,\n",
    "             max_iter=None, decode_method='beam_search', beam_size=10):\n",
    "    crnn.eval()\n",
    "\n",
    "    tot_count = 0\n",
    "    tot_loss = 0\n",
    "    tot_correct = 0\n",
    "    wrong_cases = []\n",
    "\n",
    "    pbar_total = max_iter if max_iter else len(dataloader)\n",
    "    pbar = tqdm(total=pbar_total, desc=\"Evaluate\") \n",
    "    # tqdm : In order to create process bars \n",
    "\n",
    "    with torch.no_grad():\n",
    "        for i, data in enumerate(dataloader):\n",
    "            if max_iter and i >= max_iter:\n",
    "                break\n",
    "            device = 'cuda' if next(crnn.parameters()).is_cuda else 'cpu'\n",
    "\n",
    "            images, targets, target_lengths = [d.to(device) for d in data]\n",
    "\n",
    "            logits = crnn(images)\n",
    "            log_probs = torch.nn.functional.log_softmax(logits, dim=2)\n",
    "\n",
    "            batch_size = images.size(0)\n",
    "            input_lengths = torch.LongTensor([logits.size(0)] * batch_size)\n",
    "\n",
    "            loss = criterion(log_probs, targets, input_lengths, target_lengths)\n",
    "\n",
    "            preds = ctc_decode(log_probs, method=decode_method, beam_size=beam_size)\n",
    "            reals = targets.cpu().numpy().tolist()\n",
    "            target_lengths = target_lengths.cpu().numpy().tolist()\n",
    "\n",
    "            tot_count += batch_size\n",
    "            tot_loss += loss.item()\n",
    "            target_length_counter = 0\n",
    "            for pred, target_length in zip(preds, target_lengths):\n",
    "                real = reals[target_length_counter:target_length_counter + target_length]\n",
    "                target_length_counter += target_length\n",
    "                if pred == real:\n",
    "                    tot_correct += 1\n",
    "                else:\n",
    "                    wrong_cases.append((real, pred))\n",
    "\n",
    "            pbar.update(1)\n",
    "        pbar.close()\n",
    "\n",
    "    evaluation = {\n",
    "        'loss': tot_loss / tot_count,\n",
    "        'acc': tot_correct / tot_count,\n",
    "        'wrong_cases': wrong_cases\n",
    "    }\n",
    "    return evaluation"
   ]
  },
  {
   "cell_type": "markdown",
   "id": "3d90e7e6",
   "metadata": {
    "papermill": {
     "duration": 0.026277,
     "end_time": "2021-10-24T13:11:01.730511",
     "exception": false,
     "start_time": "2021-10-24T13:11:01.704234",
     "status": "completed"
    },
    "tags": []
   },
   "source": [
    "## 4.3 training process"
   ]
  },
  {
   "cell_type": "code",
   "execution_count": 20,
   "id": "1f427f33",
   "metadata": {
    "execution": {
     "iopub.execute_input": "2021-10-24T13:11:01.795654Z",
     "iopub.status.busy": "2021-10-24T13:11:01.794866Z",
     "iopub.status.idle": "2021-10-24T13:11:01.797280Z",
     "shell.execute_reply": "2021-10-24T13:11:01.796847Z",
     "shell.execute_reply.started": "2021-10-24T13:06:32.509376Z"
    },
    "papermill": {
     "duration": 0.040058,
     "end_time": "2021-10-24T13:11:01.797380",
     "exception": false,
     "start_time": "2021-10-24T13:11:01.757322",
     "status": "completed"
    },
    "tags": []
   },
   "outputs": [],
   "source": [
    "def main():\n",
    "    epochs = 1000\n",
    "    train_batch_size = 32\n",
    "    eval_batch_size = 32\n",
    "    lr = 0.0005\n",
    "    show_interval = 1#380\n",
    "    valid_interval = 1#37700\n",
    "    save_interval = 1#2000\n",
    "    reload_checkpoint = None\n",
    "    valid_max_iter = 100\n",
    "\n",
    "    img_width = 300\n",
    "    img_height = 64\n",
    "    \n",
    "    best_loss = float('inf')\n",
    "    early_stop = 10\n",
    "    stop = False\n",
    "    j = 0\n",
    "\n",
    "    device = torch.device('cuda' if torch.cuda.is_available() else 'cpu')\n",
    "    print(f'device: {device}')\n",
    "\n",
    "    num_class = len(dataset_train.CHAR2LABEL)+1\n",
    "    \n",
    "    crnn = model\n",
    "    optimizer = optim.RMSprop(crnn.parameters(), lr=lr)\n",
    "    criterion = CTCLoss(reduction='sum')\n",
    "    criterion.to(device)\n",
    "\n",
    "    #assert save_interval % valid_interval == 0\n",
    "    i = 1\n",
    "    \n",
    "    for epoch in range(1, epochs + 1):\n",
    "        if(stop):\n",
    "            break\n",
    "        print(f'epoch: {epoch}')\n",
    "        tot_train_loss = 0.\n",
    "        tot_train_count = 0\n",
    "        for train_data in train_loader:\n",
    "            loss = train_batch(crnn, train_data, optimizer, criterion, device)\n",
    "            train_size = train_data[0].size(0) # batch size\n",
    "\n",
    "            tot_train_loss += loss\n",
    "            tot_train_count += train_size\n",
    "            if i % show_interval == 0:\n",
    "                print('train_batch_loss[', i, ']: ', loss / train_size)\n",
    "\n",
    "            if i % valid_interval == 0:\n",
    "                evaluation = vaild_model(crnn, val_loader, criterion)\n",
    "                print('valid_evaluation: loss={loss}, acc={acc}'.format(**evaluation))\n",
    "\n",
    "                \n",
    "#             if i % save_interval == 0:\n",
    "#                 prefix = 'crnn'\n",
    "#                 loss = evaluation['loss']\n",
    "#                 save_model_path = os.path.join(f'{prefix}_{i:06}_loss{loss}.pt')\n",
    "#                 torch.save(crnn.state_dict(), save_model_path)\n",
    "#                 print('save model at ', save_model_path)\n",
    "            i += 1\n",
    "            \n",
    "            if (loss < best_loss):\n",
    "                best_loss = loss\n",
    "                j = 0\n",
    "                prefix = 'crnn'\n",
    "                loss = evaluation['loss']\n",
    "                save_model_path = os.path.join(f'{prefix}_loss{loss}.pt')\n",
    "                torch.save(crnn.state_dict(), save_model_path)\n",
    "                print('save model at ', save_model_path)\n",
    "            else:\n",
    "                j += 1\n",
    "                if(j >= early_stop):\n",
    "                    stop = True\n",
    "            stop = True\n",
    "        print('train_loss: ', tot_train_loss / tot_train_count)"
   ]
  },
  {
   "cell_type": "code",
   "execution_count": 21,
   "id": "1a6990cf",
   "metadata": {
    "execution": {
     "iopub.execute_input": "2021-10-24T13:11:01.852951Z",
     "iopub.status.busy": "2021-10-24T13:11:01.852234Z",
     "iopub.status.idle": "2021-10-24T13:11:01.854655Z",
     "shell.execute_reply": "2021-10-24T13:11:01.854224Z",
     "shell.execute_reply.started": "2021-10-24T13:06:39.662270Z"
    },
    "papermill": {
     "duration": 0.031164,
     "end_time": "2021-10-24T13:11:01.854764",
     "exception": false,
     "start_time": "2021-10-24T13:11:01.823600",
     "status": "completed"
    },
    "tags": []
   },
   "outputs": [],
   "source": [
    "# prefix = 'crnn'\n",
    "# loss = 5\n",
    "# i=2\n",
    "# os.path.join(f'{prefix}_{i:06}_loss{loss}.pt')"
   ]
  },
  {
   "cell_type": "code",
   "execution_count": 22,
   "id": "123c2fbb",
   "metadata": {
    "execution": {
     "iopub.execute_input": "2021-10-24T13:11:01.911995Z",
     "iopub.status.busy": "2021-10-24T13:11:01.911338Z",
     "iopub.status.idle": "2021-10-24T13:13:15.631112Z",
     "shell.execute_reply": "2021-10-24T13:13:15.630525Z",
     "shell.execute_reply.started": "2021-10-24T13:06:40.281251Z"
    },
    "papermill": {
     "duration": 133.750278,
     "end_time": "2021-10-24T13:13:15.631271",
     "exception": false,
     "start_time": "2021-10-24T13:11:01.880993",
     "status": "completed"
    },
    "tags": []
   },
   "outputs": [
    {
     "name": "stdout",
     "output_type": "stream",
     "text": [
      "device: cuda\n",
      "epoch: 1\n",
      "train_batch_loss[ 1 ]:  223.78565979003906\n"
     ]
    },
    {
     "name": "stderr",
     "output_type": "stream",
     "text": [
      "Evaluate: 100%|██████████| 3/3 [00:41<00:00, 13.81s/it]\n"
     ]
    },
    {
     "name": "stdout",
     "output_type": "stream",
     "text": [
      "valid_evaluation: loss=220.85381887335527, acc=0.0\n",
      "save model at  crnn_loss220.85381887335527.pt\n",
      "train_batch_loss[ 2 ]:  223.14404296875\n"
     ]
    },
    {
     "name": "stderr",
     "output_type": "stream",
     "text": [
      "Evaluate: 100%|██████████| 3/3 [00:37<00:00, 12.60s/it]\n"
     ]
    },
    {
     "name": "stdout",
     "output_type": "stream",
     "text": [
      "valid_evaluation: loss=31.67942408511513, acc=0.0\n",
      "save model at  crnn_loss31.67942408511513.pt\n",
      "train_batch_loss[ 3 ]:  30.316193611391128\n"
     ]
    },
    {
     "name": "stderr",
     "output_type": "stream",
     "text": [
      "Evaluate: 100%|██████████| 3/3 [00:29<00:00,  9.72s/it]"
     ]
    },
    {
     "name": "stdout",
     "output_type": "stream",
     "text": [
      "valid_evaluation: loss=48.10311343544408, acc=0.0\n",
      "save model at  crnn_loss48.10311343544408.pt\n",
      "train_loss:  160.43739463404606\n"
     ]
    },
    {
     "name": "stderr",
     "output_type": "stream",
     "text": [
      "\n"
     ]
    }
   ],
   "source": [
    "main()"
   ]
  },
  {
   "cell_type": "code",
   "execution_count": null,
   "id": "cfbea110",
   "metadata": {
    "papermill": {
     "duration": 0.033339,
     "end_time": "2021-10-24T13:13:15.699049",
     "exception": false,
     "start_time": "2021-10-24T13:13:15.665710",
     "status": "completed"
    },
    "tags": []
   },
   "outputs": [],
   "source": []
  }
 ],
 "metadata": {
  "kernelspec": {
   "display_name": "Python 3",
   "language": "python",
   "name": "python3"
  },
  "language_info": {
   "codemirror_mode": {
    "name": "ipython",
    "version": 3
   },
   "file_extension": ".py",
   "mimetype": "text/x-python",
   "name": "python",
   "nbconvert_exporter": "python",
   "pygments_lexer": "ipython3",
   "version": "3.7.10"
  },
  "papermill": {
   "default_parameters": {},
   "duration": 162.921879,
   "end_time": "2021-10-24T13:13:17.044571",
   "environment_variables": {},
   "exception": null,
   "input_path": "__notebook__.ipynb",
   "output_path": "__notebook__.ipynb",
   "parameters": {},
   "start_time": "2021-10-24T13:10:34.122692",
   "version": "2.3.3"
  }
 },
 "nbformat": 4,
 "nbformat_minor": 5
}
